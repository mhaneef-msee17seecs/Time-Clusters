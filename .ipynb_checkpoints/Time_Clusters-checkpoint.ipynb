{
 "cells": [
  {
   "cell_type": "code",
   "execution_count": 1,
   "metadata": {},
   "outputs": [],
   "source": [
    "import pandas as pd\n",
    "import matplotlib\n",
    "import matplotlib.pyplot as plt\n",
    "from scipy.stats import kurtosis\n",
    "from scipy.stats import skew"
   ]
  },
  {
   "cell_type": "code",
   "execution_count": 2,
   "metadata": {},
   "outputs": [],
   "source": [
    "traindata = pd.read_csv('smalldata.txt', sep = ',') #5136\n",
    "import numpy as np\n",
    "t = np.zeros(6000) #time\n",
    "w = np.zeros(6000) #address\n",
    "x = np.zeros(6000) #column\n",
    "y = np.zeros(6000) #row\n",
    "z = np.zeros(6000) #delay\n",
    "a = np.zeros(6000) #addressgrowth\n",
    "b = np.zeros(6000) #columngrowth\n",
    "c = np.zeros(6000) #rowgrowth\n",
    "d = np.zeros(6000) #timegrowth"
   ]
  },
  {
   "cell_type": "code",
   "execution_count": 3,
   "metadata": {},
   "outputs": [],
   "source": [
    "#Filling the arrays with corresponding data\n",
    "\n",
    "for i in range (0, 5136):\n",
    "    w[i] = traindata.address[i+1] - traindata.address[i]\n",
    "    \n",
    "for i in range (0, 5136):\n",
    "    x[i] = traindata.column[i+1] - traindata.column[i]\n",
    "    \n",
    "for i in range (0, 5136):\n",
    "    y[i] = traindata.row[i+1] - traindata.row[i]\n",
    "    \n",
    "for i in range (0, 5136):\n",
    "    t[i] = traindata.time[i+1] - traindata.time[i]\n",
    "\n",
    "for i in range (0, 5136):\n",
    "    z[i] = traindata.delay[i]\n",
    "    \n",
    "\n",
    "#Skipping over the fraction in which denominator is zero. Else it'll produce infinity\n",
    "for i in range (0, 5136):\n",
    "    if (traindata.address[i+1] != traindata.address[i]):\n",
    "        a[i] = (traindata.address[i+1] - traindata.address[i])/(traindata.address[i+1])\n",
    "    else:\n",
    "        a[i] = 0\n",
    "\n",
    "\n",
    "        \n",
    "for i in range (0, 5136):\n",
    "    if (traindata.row[i+1] != traindata.row[i]):\n",
    "        c[i] = (traindata.row[i+1] - traindata.row[i])/(traindata.row[i+1])\n",
    "    else:\n",
    "        c[i] = 0\n",
    "        \n",
    "for i in range (0, 5136):\n",
    "    if (traindata.time[i+1] != traindata.time[i]):\n",
    "        d[i] = (traindata.time[i+1] - traindata.time[i])/(traindata.time[i+1])\n",
    "    else:\n",
    "        d[i] = 0\n",
    "\n"
   ]
  },
  {
   "cell_type": "code",
   "execution_count": 6,
   "metadata": {},
   "outputs": [
    {
     "name": "stderr",
     "output_type": "stream",
     "text": [
      "C:\\Users\\DELL\\Anaconda3\\lib\\site-packages\\ipykernel_launcher.py:3: RuntimeWarning: divide by zero encountered in longlong_scalars\n",
      "  This is separate from the ipykernel package so we can avoid doing imports until\n"
     ]
    }
   ],
   "source": [
    "for i in range (0, 5136):\n",
    "    if (traindata.column[i+1] != traindata.column[i]):\n",
    "        b[i] = (traindata.column[i+1] - traindata.column[i])/(traindata.column[i+1])\n",
    "    elif (traindata.column[i+1]==0):\n",
    "        b[i] = 0\n",
    "    else:\n",
    "        b[i] = 0\n",
    "   "
   ]
  },
  {
   "cell_type": "code",
   "execution_count": 7,
   "metadata": {},
   "outputs": [],
   "source": [
    "#differencedata corresponds to file containing difference of column, addresses, times, and rows from the previous datapoints\n",
    "\n",
    "import csv\n",
    "#Working Code\n",
    "with open('differencedata.csv', 'w', newline='') as file:\n",
    "    writer = csv.writer(file)\n",
    "    writer.writerow(['Addressdiff', 'addressgrowth','Columndiff', 'columngrowth', 'Rowdiff', 'rowgrowth', 'timediff','timegrowth','delay'])\n",
    "    for i in range (0, 5137):\n",
    "        writer.writerow([w[i], a[i], x[i], b[i], y[i], c[i], t[i], d[i], z[i]])"
   ]
  },
  {
   "cell_type": "code",
   "execution_count": 9,
   "metadata": {},
   "outputs": [],
   "source": [
    "import seaborn as sns\n",
    "newdata = pd.read_csv('differencedata.csv')\n",
    "newdata['columngrowth'].fillna(0, inplace=True)\n",
    "#newdata.min()\n",
    "#sns.pairplot(newdata, hue=\"delay\")\n",
    "# Create the default pairplot\n",
    "#newdata = newdata.abs() #to make all the differences aboslute\n"
   ]
  },
  {
   "cell_type": "code",
   "execution_count": 10,
   "metadata": {},
   "outputs": [],
   "source": [
    "#file with only data points where the latency is changing\n",
    "with open('changes.csv', 'w', newline='') as file:\n",
    "    writer = csv.writer(file)\n",
    "    writer.writerow(['address', 'addressgrowth', 'column', 'columngrowth', 'row', 'rowgrowth', 'time', 'timegrowth' ,'delay'])\n",
    "    \n",
    "    for i in range (0, 5136):\n",
    "        if (newdata.delay[i] != newdata.delay[i+1]):\n",
    "            writer.writerow([newdata.Addressdiff[i], newdata.addressgrowth[i], newdata.Columndiff[i], newdata.columngrowth[i], newdata.Rowdiff[i], \n",
    "                             newdata.rowgrowth[i], newdata.timediff[i], newdata.timegrowth[i], newdata.delay[i]])\n",
    "            writer.writerow([newdata.Addressdiff[i+1], newdata.addressgrowth[i+1], newdata.Columndiff[i+1], newdata.columngrowth[i+1], newdata.Rowdiff[i+1], \n",
    "                             newdata.rowgrowth[i+1], newdata.timediff[i+1], newdata.timegrowth[i+1], newdata.delay[i+1]])"
   ]
  },
  {
   "cell_type": "code",
   "execution_count": 11,
   "metadata": {},
   "outputs": [],
   "source": [
    "changedata = pd.read_csv('changes.csv')\n",
    "changedata.drop_duplicates(subset =\"delay\", keep = 'first', inplace = True) #dropping duplicates can be avoided by writing a different code"
   ]
  },
  {
   "cell_type": "code",
   "execution_count": 12,
   "metadata": {},
   "outputs": [
    {
     "name": "stderr",
     "output_type": "stream",
     "text": [
      "C:\\Users\\DELL\\Anaconda3\\lib\\site-packages\\ipykernel_launcher.py:5: RuntimeWarning: divide by zero encountered in log\n",
      "  \"\"\"\n"
     ]
    }
   ],
   "source": [
    "#taking log transformation of the time growth fri\n",
    "import numpy as np\n",
    "Z = np.array(newdata.timegrowth)\n",
    "\n",
    "Z = np.log(Z)\n",
    "p = np.zeros(6000)\n",
    "for i in range (0, 5137):\n",
    "    p[i] = Z[i]\n",
    "    #print (p[i])"
   ]
  },
  {
   "cell_type": "code",
   "execution_count": 13,
   "metadata": {},
   "outputs": [],
   "source": [
    "#Clusters based on log transformation of time growth \n",
    "#First cluster between -2 and 0\n",
    "with open('timecluster1.csv', 'w', newline='') as file:\n",
    "    writer = csv.writer(file)\n",
    "    writer.writerow(['address', 'addressgrowth', 'column', 'columngrowth', 'row', 'rowgrowth', 'time', 'timegrowth', 'growthlog' ,'delay'])\n",
    "    \n",
    "    for i in range (0, 5136):\n",
    "        #print(\"in for loop\")\n",
    "        #print(d[i])\n",
    "        if (p[i] < 0):\n",
    "            #print(\"entered first if..\")\n",
    "            if (p[i] > -2):\n",
    "                #print (\"entered second if..\")\n",
    "                #print(\"i am inside the file\")\n",
    "                #print (d[i])\n",
    "                writer.writerow ([w[i], a[i], x[i], b[i], y[i], c[i], t[i], d[i], p[i], z[i]])\n",
    "        i = i+1"
   ]
  },
  {
   "cell_type": "code",
   "execution_count": 14,
   "metadata": {},
   "outputs": [],
   "source": [
    "#Second cluster between -4 and -2\n",
    "with open('timecluster2.csv', 'w', newline='') as file:\n",
    "    writer = csv.writer(file)\n",
    "    writer.writerow(['address', 'addressgrowth', 'column', 'columngrowth', 'row', 'rowgrowth', 'time', 'timegrowth', 'growthlog' ,'delay'])\n",
    "    \n",
    "    for i in range (0, 5136):\n",
    "\n",
    "        if (p[i] < -2):\n",
    "\n",
    "            if (p[i] > -4):\n",
    "   \n",
    "                writer.writerow ([w[i], a[i], x[i], b[i], y[i], c[i], t[i], d[i], p[i], z[i]])\n",
    "        i = i+1"
   ]
  },
  {
   "cell_type": "code",
   "execution_count": 15,
   "metadata": {},
   "outputs": [],
   "source": [
    "#Third cluster between -6 and -4\n",
    "with open('timecluster3.csv', 'w', newline='') as file:\n",
    "    writer = csv.writer(file)\n",
    "    writer.writerow(['address', 'addressgrowth', 'column', 'columngrowth', 'row', 'rowgrowth', 'time', 'timegrowth', 'growthlog' ,'delay'])\n",
    "    \n",
    "    for i in range (0, 5136):\n",
    "\n",
    "        if (p[i] < -4):\n",
    " \n",
    "            if (p[i] > -6):\n",
    "   \n",
    "                writer.writerow ([w[i], a[i], x[i], b[i], y[i], c[i], t[i], d[i], p[i], z[i]])\n",
    "        i = i+1"
   ]
  },
  {
   "cell_type": "code",
   "execution_count": 16,
   "metadata": {},
   "outputs": [],
   "source": [
    "with open('timecluster4.csv', 'w', newline='') as file:\n",
    "    writer = csv.writer(file)\n",
    "    writer.writerow(['address', 'addressgrowth', 'column', 'columngrowth', 'row', 'rowgrowth', 'time', 'timegrowth', 'growthlog' ,'delay'])\n",
    "    \n",
    "    for i in range (0, 5136):\n",
    "\n",
    "        if (p[i] < -6):\n",
    " \n",
    "            if (p[i] > -8):\n",
    "   \n",
    "                writer.writerow ([w[i], a[i], x[i], b[i], y[i], c[i], t[i], d[i], p[i], z[i]])\n",
    "        i = i+1"
   ]
  },
  {
   "cell_type": "code",
   "execution_count": 17,
   "metadata": {},
   "outputs": [
    {
     "data": {
      "text/plain": [
       "<Figure size 3600x3600 with 0 Axes>"
      ]
     },
     "execution_count": 17,
     "metadata": {},
     "output_type": "execute_result"
    },
    {
     "data": {
      "image/png": "[encoded data removed]",
      "text/plain": [
       "<Figure size 432x288 with 1 Axes>"
      ]
     },
     "metadata": {},
     "output_type": "display_data"
    },
    {
     "data": {
      "text/plain": [
       "<Figure size 3600x3600 with 0 Axes>"
      ]
     },
     "metadata": {},
     "output_type": "display_data"
    }
   ],
   "source": [
    "cluster2 = pd.read_csv('timecluster2.csv')\n",
    "\n",
    "#Plotting timegrowth vs latency in the second cluster\n",
    "import numpy as np\n",
    "X = np.array(cluster2.values)\n",
    "plt.scatter(X[:,7], X[:,9], cmap=plt.cm.coolwarm, s=20, edgecolors='k')\n",
    "plt.title('Delay vs Column Growth')\n",
    "#plt.xlim(-60, 0)\n",
    "#plt.ylim (0, 100000) #0,1000\n",
    "plt.xlabel('Column growth')\n",
    "plt.ylabel('Latency')\n",
    "plt.figure(figsize=(50,50))\n",
    "\n",
    "#Results: Column and Time growth are following same trends with latency"
   ]
  },
  {
   "cell_type": "code",
   "execution_count": 18,
   "metadata": {},
   "outputs": [
    {
     "data": {
      "text/plain": [
       "<Figure size 3600x3600 with 0 Axes>"
      ]
     },
     "execution_count": 18,
     "metadata": {},
     "output_type": "execute_result"
    },
    {
     "data": {
      "image/png": "[encoded data removed]",
      "text/plain": [
       "<Figure size 432x288 with 1 Axes>"
      ]
     },
     "metadata": {},
     "output_type": "display_data"
    },
    {
     "data": {
      "text/plain": [
       "<Figure size 3600x3600 with 0 Axes>"
      ]
     },
     "metadata": {},
     "output_type": "display_data"
    }
   ],
   "source": [
    "#Plotting columngrowth vs latency in the second cluster\n",
    "\n",
    "import numpy as np\n",
    "X = np.array(cluster2.values)\n",
    "plt.scatter(X[:,3], X[:,9], cmap=plt.cm.coolwarm, s=20, edgecolors='k')\n",
    "plt.title('Delay vs Column Growth')\n",
    "plt.xlim(0,0.075)\n",
    "#plt.ylim (0, 100000) #0,1000\n",
    "plt.xlabel('Column growth')\n",
    "plt.ylabel('Latency')\n",
    "plt.figure(figsize=(50,50))\n",
    "\n",
    "#Results: Column and Time growth are following same trends with latency"
   ]
  },
  {
   "cell_type": "code",
   "execution_count": 19,
   "metadata": {},
   "outputs": [
    {
     "data": {
      "text/plain": [
       "<Figure size 3600x3600 with 0 Axes>"
      ]
     },
     "execution_count": 19,
     "metadata": {},
     "output_type": "execute_result"
    },
    {
     "data": {
      "image/png": "[encoded data removed]",
      "text/plain": [
       "<Figure size 432x288 with 1 Axes>"
      ]
     },
     "metadata": {},
     "output_type": "display_data"
    },
    {
     "data": {
      "text/plain": [
       "<Figure size 3600x3600 with 0 Axes>"
      ]
     },
     "metadata": {},
     "output_type": "display_data"
    }
   ],
   "source": [
    "cluster3 = pd.read_csv('timecluster3.csv')\n",
    "\n",
    "#Plotting column growth vs latency in the third cluster\n",
    "import numpy as np\n",
    "X = np.array(cluster3.values)\n",
    "plt.scatter(X[:,3], X[:,9], cmap=plt.cm.coolwarm, s=20, edgecolors='k')\n",
    "plt.title('Delay vs Column Growth')\n",
    "plt.xlim(0.03,0.05)\n",
    "#plt.ylim (0, 100000) #0,1000\n",
    "plt.xlabel('Column growth')\n",
    "plt.ylabel('Latency')\n",
    "plt.figure(figsize=(50,50))"
   ]
  },
  {
   "cell_type": "code",
   "execution_count": 20,
   "metadata": {},
   "outputs": [
    {
     "data": {
      "text/plain": [
       "<Figure size 3600x3600 with 0 Axes>"
      ]
     },
     "execution_count": 20,
     "metadata": {},
     "output_type": "execute_result"
    },
    {
     "data": {
      "image/png": "[encoded data removed]",
      "text/plain": [
       "<Figure size 432x288 with 1 Axes>"
      ]
     },
     "metadata": {},
     "output_type": "display_data"
    },
    {
     "data": {
      "text/plain": [
       "<Figure size 3600x3600 with 0 Axes>"
      ]
     },
     "metadata": {},
     "output_type": "display_data"
    }
   ],
   "source": [
    "#Plotting timegrowth vs latency in the third cluster\n",
    "import numpy as np\n",
    "X = np.array(cluster3.values)\n",
    "plt.scatter(X[:,7], X[:,9], cmap=plt.cm.coolwarm, s=20, edgecolors='k')\n",
    "plt.title('Delay vs Time Growth')\n",
    "plt.xlim(0.015,0.020)\n",
    "#plt.ylim (0, 100000) #0,1000\n",
    "plt.xlabel('Time growth')\n",
    "plt.ylabel('Latency')\n",
    "plt.figure(figsize=(50,50))"
   ]
  },
  {
   "cell_type": "code",
   "execution_count": null,
   "metadata": {},
   "outputs": [],
   "source": []
  }
 ],
 "metadata": {
  "kernelspec": {
   "display_name": "Python 3",
   "language": "python",
   "name": "python3"
  },
  "language_info": {
   "codemirror_mode": {
    "name": "ipython",
    "version": 3
   },
   "file_extension": ".py",
   "mimetype": "text/x-python",
   "name": "python",
   "nbconvert_exporter": "python",
   "pygments_lexer": "ipython3",
   "version": "3.6.4"
  }
 },
 "nbformat": 4,
 "nbformat_minor": 2
}
